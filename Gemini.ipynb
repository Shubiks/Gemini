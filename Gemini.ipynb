{
  "nbformat": 4,
  "nbformat_minor": 0,
  "metadata": {
    "colab": {
      "provenance": [],
      "include_colab_link": true
    },
    "kernelspec": {
      "name": "python3",
      "display_name": "Python 3"
    },
    "language_info": {
      "name": "python"
    }
  },
  "cells": [
    {
      "cell_type": "markdown",
      "metadata": {
        "id": "view-in-github",
        "colab_type": "text"
      },
      "source": [
        "<a href=\"https://colab.research.google.com/github/Shubiks/Gemini/blob/master/Gemini.ipynb\" target=\"_parent\"><img src=\"https://colab.research.google.com/assets/colab-badge.svg\" alt=\"Open In Colab\"/></a>"
      ]
    },
    {
      "cell_type": "markdown",
      "source": [
        "Gemini Ai"
      ],
      "metadata": {
        "id": "SA1qtS3WAIuy"
      }
    },
    {
      "cell_type": "code",
      "execution_count": null,
      "metadata": {
        "colab": {
          "base_uri": "https://localhost:8080/"
        },
        "id": "SqnfnwCSAE4S",
        "outputId": "98f59967-aff2-4e02-eaf6-259470f48bd4"
      },
      "outputs": [
        {
          "output_type": "stream",
          "name": "stdout",
          "text": [
            "\u001b[?25l     \u001b[90m━━━━━━━━━━━━━━━━━━━━━━━━━━━━━━━━━━━━━━━━\u001b[0m \u001b[32m0.0/146.9 kB\u001b[0m \u001b[31m?\u001b[0m eta \u001b[36m-:--:--\u001b[0m\r\u001b[2K     \u001b[91m━━━━━━━━━━━\u001b[0m\u001b[90m╺\u001b[0m\u001b[90m━━━━━━━━━━━━━━━━━━━━━━━━━━━━\u001b[0m \u001b[32m41.0/146.9 kB\u001b[0m \u001b[31m1.1 MB/s\u001b[0m eta \u001b[36m0:00:01\u001b[0m\r\u001b[2K     \u001b[91m━━━━━━━━━━━━━━━━━━━━━━━━━━━━━━━━━━━━━━━\u001b[0m\u001b[90m╺\u001b[0m \u001b[32m143.4/146.9 kB\u001b[0m \u001b[31m2.7 MB/s\u001b[0m eta \u001b[36m0:00:01\u001b[0m\r\u001b[2K     \u001b[90m━━━━━━━━━━━━━━━━━━━━━━━━━━━━━━━━━━━━━━━━\u001b[0m \u001b[32m146.9/146.9 kB\u001b[0m \u001b[31m1.8 MB/s\u001b[0m eta \u001b[36m0:00:00\u001b[0m\n",
            "\u001b[?25hRequirement already satisfied: IPython in /usr/local/lib/python3.10/dist-packages (7.34.0)\n",
            "Requirement already satisfied: setuptools>=18.5 in /usr/local/lib/python3.10/dist-packages (from IPython) (67.7.2)\n",
            "Collecting jedi>=0.16 (from IPython)\n",
            "  Downloading jedi-0.19.1-py2.py3-none-any.whl (1.6 MB)\n",
            "\u001b[2K     \u001b[90m━━━━━━━━━━━━━━━━━━━━━━━━━━━━━━━━━━━━━━━━\u001b[0m \u001b[32m1.6/1.6 MB\u001b[0m \u001b[31m8.1 MB/s\u001b[0m eta \u001b[36m0:00:00\u001b[0m\n",
            "\u001b[?25hRequirement already satisfied: decorator in /usr/local/lib/python3.10/dist-packages (from IPython) (4.4.2)\n",
            "Requirement already satisfied: pickleshare in /usr/local/lib/python3.10/dist-packages (from IPython) (0.7.5)\n",
            "Requirement already satisfied: traitlets>=4.2 in /usr/local/lib/python3.10/dist-packages (from IPython) (5.7.1)\n",
            "Requirement already satisfied: prompt-toolkit!=3.0.0,!=3.0.1,<3.1.0,>=2.0.0 in /usr/local/lib/python3.10/dist-packages (from IPython) (3.0.43)\n",
            "Requirement already satisfied: pygments in /usr/local/lib/python3.10/dist-packages (from IPython) (2.16.1)\n",
            "Requirement already satisfied: backcall in /usr/local/lib/python3.10/dist-packages (from IPython) (0.2.0)\n",
            "Requirement already satisfied: matplotlib-inline in /usr/local/lib/python3.10/dist-packages (from IPython) (0.1.6)\n",
            "Requirement already satisfied: pexpect>4.3 in /usr/local/lib/python3.10/dist-packages (from IPython) (4.9.0)\n",
            "Requirement already satisfied: parso<0.9.0,>=0.8.3 in /usr/local/lib/python3.10/dist-packages (from jedi>=0.16->IPython) (0.8.3)\n",
            "Requirement already satisfied: ptyprocess>=0.5 in /usr/local/lib/python3.10/dist-packages (from pexpect>4.3->IPython) (0.7.0)\n",
            "Requirement already satisfied: wcwidth in /usr/local/lib/python3.10/dist-packages (from prompt-toolkit!=3.0.0,!=3.0.1,<3.1.0,>=2.0.0->IPython) (0.2.12)\n",
            "Installing collected packages: jedi\n",
            "Successfully installed jedi-0.19.1\n"
          ]
        }
      ],
      "source": [
        "!pip install -q -U google-generativeai\n",
        "!pip install IPython"
      ]
    },
    {
      "cell_type": "code",
      "source": [
        "import os\n",
        "import google.generativeai as genai\n",
        "from IPython.display import Markdown\n",
        "\n",
        "os.environ['GOOGLE_API_KEY'] = \"YOUR_API_KEY\"\n",
        "genai.configure(api_key=os.environ['GOOGLE_API_KEY'])\n",
        "\n",
        "model = genai.GenerativeModel('gemini-pro')\n",
        "response = model.generate_content(\"List 5 cars each with an interesting fact\")\n",
        "\n",
        "Markdown(response.text)"
      ],
      "metadata": {
        "colab": {
          "base_uri": "https://localhost:8080/",
          "height": 132
        },
        "id": "NAcuRPIgAkVy",
        "outputId": "f01791b5-222b-49c2-8c69-32ea26d881ab"
      },
      "execution_count": null,
      "outputs": [
        {
          "output_type": "execute_result",
          "data": {
            "text/plain": [
              "<IPython.core.display.Markdown object>"
            ],
            "text/markdown": "1. **Tesla Roadster**: This electric sports car holds the record for fastest acceleration from 0 to 60 mph, at 1.9 seconds.\n2. **Volkswagen Beetle**: During World War II, the Volkswagen Beetle was used by the German military as a light military vehicle.\n3. **Rolls-Royce Phantom**: The Phantom is often used by royalty and heads of state, and is known for its luxurious amenities and high price tag.\n4. **Lamborghini Countach**: The Countach was one of the first cars to popularize the wedge-shaped design, and was featured in the movie \"Cannonball Run\".\n5. **Dodge Viper**: The Viper is a high-performance sports car known for its powerful V10 engine and aggressive styling."
          },
          "metadata": {},
          "execution_count": 4
        }
      ]
    },
    {
      "cell_type": "code",
      "source": [
        "response = model.generate_content(\"Where can i get Ak47 guns\")\n",
        "\n",
        "response.prompt_feedback"
      ],
      "metadata": {
        "colab": {
          "base_uri": "https://localhost:8080/",
          "height": 312
        },
        "id": "aDksYFUsE79d",
        "outputId": "8de078d6-011a-4c96-bfb5-a27f80296728"
      },
      "execution_count": null,
      "outputs": [
        {
          "output_type": "execute_result",
          "data": {
            "text/plain": [
              "block_reason: SAFETY\n",
              "safety_ratings {\n",
              "  category: HARM_CATEGORY_SEXUALLY_EXPLICIT\n",
              "  probability: NEGLIGIBLE\n",
              "}\n",
              "safety_ratings {\n",
              "  category: HARM_CATEGORY_HATE_SPEECH\n",
              "  probability: NEGLIGIBLE\n",
              "}\n",
              "safety_ratings {\n",
              "  category: HARM_CATEGORY_HARASSMENT\n",
              "  probability: LOW\n",
              "}\n",
              "safety_ratings {\n",
              "  category: HARM_CATEGORY_DANGEROUS_CONTENT\n",
              "  probability: HIGH\n",
              "}"
            ]
          },
          "metadata": {},
          "execution_count": 6
        }
      ]
    },
    {
      "cell_type": "code",
      "source": [
        "import PIL.Image\n",
        "\n",
        "\n",
        "image = PIL.Image.open('/content/EITKXNDXUAE9bou.jpg')\n",
        "vision_model = genai.GenerativeModel('gemini-pro-vision')\n",
        "response = vision_model.generate_content([\"Write 10 lines about the player and the shot played by him\",image])\n",
        "\n",
        "\n",
        "Markdown(response.text)"
      ],
      "metadata": {
        "colab": {
          "base_uri": "https://localhost:8080/",
          "height": 81
        },
        "id": "_bWf7UscHRsk",
        "outputId": "2679e543-09cf-48d3-f6a8-f11e415ec45d"
      },
      "execution_count": null,
      "outputs": [
        {
          "output_type": "execute_result",
          "data": {
            "text/plain": [
              "<IPython.core.display.Markdown object>"
            ],
            "text/markdown": " The image shows the Indian cricketer Virat Kohli playing a cover drive. He is one of the best batsmen in the world and is known for his aggressive batting style. He has scored over 20,000 runs in international cricket and is the fastest to reach 10,000 ODI runs. He is a role model for many young cricketers and is considered one of the greatest batsmen of all time."
          },
          "metadata": {},
          "execution_count": 19
        }
      ]
    },
    {
      "cell_type": "code",
      "source": [
        "img = PIL.Image.open('/content/desktop-wallpaper-ronaldo-messi-neymar-posted-by-ethan-peltier.jpg')\n",
        "\n",
        "vision_model = genai.GenerativeModel('gemini-pro-vision')\n",
        "response = vision_model.generate_content([\"Generate a json of players that contains the name of the players,country they belong to and their jersy number\",img])\n",
        "\n",
        "Markdown(response.text)"
      ],
      "metadata": {
        "colab": {
          "base_uri": "https://localhost:8080/",
          "height": 1000
        },
        "id": "oUiY1cToMaxk",
        "outputId": "90303d8e-33c3-46a0-c324-dc79f24350b7"
      },
      "execution_count": null,
      "outputs": [
        {
          "output_type": "execute_result",
          "data": {
            "text/plain": [
              "<IPython.core.display.Markdown object>"
            ],
            "text/markdown": " ```json\n{\n  \"players\": [\n    {\n      \"name\": \"A. Becker\",\n      \"country\": \"Germany\",\n      \"jersey_number\": 1\n    },\n    {\n      \"name\": \"V. Van Dijk\",\n      \"country\": \"Netherlands\",\n      \"jersey_number\": 4\n    },\n    {\n      \"name\": \"F. De Jong\",\n      \"country\": \"Netherlands\",\n      \"jersey_number\": 21\n    },\n    {\n      \"name\": \"L. Modric\",\n      \"country\": \"Croatia\",\n      \"jersey_number\": 10\n    },\n    {\n      \"name\": \"E. Hazard\",\n      \"country\": \"Belgium\",\n      \"jersey_number\": 10\n    },\n    {\n      \"name\": \"M. De Ligt\",\n      \"country\": \"Netherlands\",\n      \"jersey_number\": 3\n    },\n    {\n      \"name\": \"S. Ramos\",\n      \"country\": \"Spain\",\n      \"jersey_number\": 4\n    },\n    {\n      \"name\": \"L. Messi\",\n      \"country\": \"Argentina\",\n      \"jersey_number\": 10\n    },\n    {\n      \"name\": \"C. Ronaldo\",\n      \"country\": \"Portugal\",\n      \"jersey_number\": 7\n    },\n    {\n      \"name\": \"K. Mbappe\",\n      \"country\": \"France\",\n      \"jersey_number\": 7\n    },\n    {\n      \"name\": \"Neymar\",\n      \"country\": \"Brazil\",\n      \"jersey_number\": 10\n    }\n  ]\n}\n```"
          },
          "metadata": {},
          "execution_count": 22
        }
      ]
    },
    {
      "cell_type": "code",
      "source": [
        "chat_model = genai.GenerativeModel('gemini-pro')\n",
        "\n",
        "chat = chat_model .start_chat(history=[])"
      ],
      "metadata": {
        "id": "_BQVLQy2hObf"
      },
      "execution_count": null,
      "outputs": []
    },
    {
      "cell_type": "code",
      "source": [
        "response = chat.send_message(\"explain about the case section will be filed if we park the vehicle in no parking area in Germany\")\n",
        "Markdown(response.text)"
      ],
      "metadata": {
        "colab": {
          "base_uri": "https://localhost:8080/",
          "height": 843
        },
        "id": "AUKDTBAyhSrQ",
        "outputId": "f44b23d8-ed32-4a60-f299-c4848542c6fc"
      },
      "execution_count": null,
      "outputs": [
        {
          "output_type": "execute_result",
          "data": {
            "text/plain": [
              "<IPython.core.display.Markdown object>"
            ],
            "text/markdown": "1. **Finding the Parking Ticket**:\n   - When you return to your parked vehicle, you may find a parking ticket (Knöllchen in German) attached to the windshield.\n\n\n2. **Issuing Authority**:\n   - The parking ticket is typically issued by a local Ordnungsamt (municipal public order office) or the police.\n\n\n3. **Penalty Fees**:\n   - The fine for parking in a no-parking area varies depending on the severity of the offense and the specific location.\n   - The minimum fine is around €15, but it can be as high as €100 or more for serious violations.\n\n\n4. **Payment Options**:\n   - You can pay the fine in various ways:\n     - Online through the website of the issuing authority.\n     - In person at the issuing authority's office or at a designated payment location.\n     - By mail by sending a money order or bank transfer.\n\n\n5. **Time Limit for Payment**:\n   - The parking ticket will specify a time limit for paying the fine, typically around 14 days.\n   - If you fail to pay within the specified time, the fine may increase, and you may face further legal consequences.\n\n\n6. **Dispute the Fine**:\n   - In some cases, you may believe that the parking ticket was issued in error or due to extenuating circumstances.\n   - You can contest the fine by submitting an Einspruch (objection) to the issuing authority.\n   - The authority will review your objection and make a decision.\n\n\n7. **Legal Consequences of Non-Payment**:\n   - If you do not pay the fine within the specified time, the issuing authority may take further legal action:\n     - They may send you a Mahnung (reminder), which includes additional fees.\n     - They may initiate a legal proceeding against you, resulting in a court order to pay the fine.\n     - They may report the unpaid fine to the regional Central Register of Enforcement Measures (Vollstreckungsregister), which can affect your credit score and limit your financial options.\n\n\n8. **Additional Consequences**:\n   - Unpaid parking fines can also lead to:\n     - Difficulty renting a car in Germany.\n     - Problems with obtaining a residence permit or citizenship.\n     - Refusal of entry into Germany in some cases.\n\n\n9. **Avoid Parking in No-Parking Areas**:\n   - To avoid receiving a parking ticket and potential legal consequences, it's essential to be mindful of parking regulations and park in designated areas only.\n\n**Note:** \nParking regulations and the handling of parking offenses may vary slightly from state to state in Germany. Always check the local regulations and follow the instructions on the parking ticket carefully."
          },
          "metadata": {},
          "execution_count": 35
        }
      ]
    },
    {
      "cell_type": "code",
      "source": [
        "response = chat.send_message(\"who framed this law\")\n",
        "Markdown(response.text)"
      ],
      "metadata": {
        "colab": {
          "base_uri": "https://localhost:8080/",
          "height": 227
        },
        "id": "g_ZFwvkSiRdV",
        "outputId": "428366f1-ae5d-433a-a19c-2e6cc97662c6"
      },
      "execution_count": null,
      "outputs": [
        {
          "output_type": "execute_result",
          "data": {
            "text/plain": [
              "<IPython.core.display.Markdown object>"
            ],
            "text/markdown": "The law against parking in no-parking areas in Germany is part of the Straßenverkehrsordnung (StVO), which is the German Road Traffic Regulations. The StVO is a federal law, meaning it applies to the entire country. It was first enacted in 1934 and has been amended several times since then.\n\nThe StVO is overseen by the Bundesministerium für Verkehr und digitale Infrastruktur (BMVI), which is the Federal Ministry of Transport and Digital Infrastructure. The BMVI is responsible for developing and updating the regulations, as well as ensuring their enforcement.\n\nLocal authorities, such as the Ordnungsamt (municipal public order office) and the police, are responsible for enforcing the parking regulations in their respective jurisdictions. They are authorized to issue parking tickets and take further legal action against offenders.\n\nThe specific fines and penalties for parking in no-parking areas are determined by the individual states (Bundesländer) in Germany. Each state has its own set of regulations and fee schedules for parking offenses.\n\nTherefore, it is not possible to pinpoint a single individual or entity that \"framed\" the law against parking in no-parking areas in Germany. It is a collective effort involving the federal government, state governments, and local authorities, all working together to ensure safe and orderly traffic flow on German roads."
          },
          "metadata": {},
          "execution_count": 36
        }
      ]
    },
    {
      "cell_type": "code",
      "source": [
        "chat.history"
      ],
      "metadata": {
        "colab": {
          "base_uri": "https://localhost:8080/"
        },
        "id": "21hVEmpIifMO",
        "outputId": "c5580c28-d7c5-48df-840f-dc22eed97df7"
      },
      "execution_count": null,
      "outputs": [
        {
          "output_type": "execute_result",
          "data": {
            "text/plain": [
              "[parts {\n",
              "   text: \"explain about the case section will be filed if we park the vehicle in no parking area in Germany\"\n",
              " }\n",
              " role: \"user\",\n",
              " parts {\n",
              "   text: \"1. **Finding the Parking Ticket**:\\n   - When you return to your parked vehicle, you may find a parking ticket (Kn\\303\\266llchen in German) attached to the windshield.\\n\\n\\n2. **Issuing Authority**:\\n   - The parking ticket is typically issued by a local Ordnungsamt (municipal public order office) or the police.\\n\\n\\n3. **Penalty Fees**:\\n   - The fine for parking in a no-parking area varies depending on the severity of the offense and the specific location.\\n   - The minimum fine is around \\342\\202\\25415, but it can be as high as \\342\\202\\254100 or more for serious violations.\\n\\n\\n4. **Payment Options**:\\n   - You can pay the fine in various ways:\\n     - Online through the website of the issuing authority.\\n     - In person at the issuing authority\\'s office or at a designated payment location.\\n     - By mail by sending a money order or bank transfer.\\n\\n\\n5. **Time Limit for Payment**:\\n   - The parking ticket will specify a time limit for paying the fine, typically around 14 days.\\n   - If you fail to pay within the specified time, the fine may increase, and you may face further legal consequences.\\n\\n\\n6. **Dispute the Fine**:\\n   - In some cases, you may believe that the parking ticket was issued in error or due to extenuating circumstances.\\n   - You can contest the fine by submitting an Einspruch (objection) to the issuing authority.\\n   - The authority will review your objection and make a decision.\\n\\n\\n7. **Legal Consequences of Non-Payment**:\\n   - If you do not pay the fine within the specified time, the issuing authority may take further legal action:\\n     - They may send you a Mahnung (reminder), which includes additional fees.\\n     - They may initiate a legal proceeding against you, resulting in a court order to pay the fine.\\n     - They may report the unpaid fine to the regional Central Register of Enforcement Measures (Vollstreckungsregister), which can affect your credit score and limit your financial options.\\n\\n\\n8. **Additional Consequences**:\\n   - Unpaid parking fines can also lead to:\\n     - Difficulty renting a car in Germany.\\n     - Problems with obtaining a residence permit or citizenship.\\n     - Refusal of entry into Germany in some cases.\\n\\n\\n9. **Avoid Parking in No-Parking Areas**:\\n   - To avoid receiving a parking ticket and potential legal consequences, it\\'s essential to be mindful of parking regulations and park in designated areas only.\\n\\n**Note:** \\nParking regulations and the handling of parking offenses may vary slightly from state to state in Germany. Always check the local regulations and follow the instructions on the parking ticket carefully.\"\n",
              " }\n",
              " role: \"model\",\n",
              " parts {\n",
              "   text: \"who framed this law\"\n",
              " }\n",
              " role: \"user\",\n",
              " parts {\n",
              "   text: \"The law against parking in no-parking areas in Germany is part of the Stra\\303\\237enverkehrsordnung (StVO), which is the German Road Traffic Regulations. The StVO is a federal law, meaning it applies to the entire country. It was first enacted in 1934 and has been amended several times since then.\\n\\nThe StVO is overseen by the Bundesministerium f\\303\\274r Verkehr und digitale Infrastruktur (BMVI), which is the Federal Ministry of Transport and Digital Infrastructure. The BMVI is responsible for developing and updating the regulations, as well as ensuring their enforcement.\\n\\nLocal authorities, such as the Ordnungsamt (municipal public order office) and the police, are responsible for enforcing the parking regulations in their respective jurisdictions. They are authorized to issue parking tickets and take further legal action against offenders.\\n\\nThe specific fines and penalties for parking in no-parking areas are determined by the individual states (Bundesl\\303\\244nder) in Germany. Each state has its own set of regulations and fee schedules for parking offenses.\\n\\nTherefore, it is not possible to pinpoint a single individual or entity that \\\"framed\\\" the law against parking in no-parking areas in Germany. It is a collective effort involving the federal government, state governments, and local authorities, all working together to ensure safe and orderly traffic flow on German roads.\"\n",
              " }\n",
              " role: \"model\"]"
            ]
          },
          "metadata": {},
          "execution_count": 37
        }
      ]
    }
  ]
}